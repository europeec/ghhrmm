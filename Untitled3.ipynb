{
  "nbformat": 4,
  "nbformat_minor": 0,
  "metadata": {
    "colab": {
      "provenance": [],
      "authorship_tag": "ABX9TyNb/CGNWvlNzq9qlUPw39P0",
      "include_colab_link": true
    },
    "kernelspec": {
      "name": "python3",
      "display_name": "Python 3"
    },
    "language_info": {
      "name": "python"
    }
  },
  "cells": [
    {
      "cell_type": "markdown",
      "metadata": {
        "id": "view-in-github",
        "colab_type": "text"
      },
      "source": [
        "<a href=\"https://colab.research.google.com/github/europeec/ghhrmm/blob/master/Untitled3.ipynb\" target=\"_parent\"><img src=\"https://colab.research.google.com/assets/colab-badge.svg\" alt=\"Open In Colab\"/></a>"
      ]
    },
    {
      "cell_type": "code",
      "execution_count": 1,
      "metadata": {
        "colab": {
          "base_uri": "https://localhost:8080/"
        },
        "id": "MgbUl9y3UMt3",
        "outputId": "d237e344-140e-4f93-b090-ec2b4b6a3bb6"
      },
      "outputs": [
        {
          "output_type": "stream",
          "name": "stdout",
          "text": [
            "Looking in indexes: https://pypi.org/simple, https://us-python.pkg.dev/colab-wheels/public/simple/\n",
            "Requirement already satisfied: pandas in /usr/local/lib/python3.10/dist-packages (1.5.3)\n",
            "Requirement already satisfied: python-dateutil>=2.8.1 in /usr/local/lib/python3.10/dist-packages (from pandas) (2.8.2)\n",
            "Requirement already satisfied: pytz>=2020.1 in /usr/local/lib/python3.10/dist-packages (from pandas) (2022.7.1)\n",
            "Requirement already satisfied: numpy>=1.21.0 in /usr/local/lib/python3.10/dist-packages (from pandas) (1.22.4)\n",
            "Requirement already satisfied: six>=1.5 in /usr/local/lib/python3.10/dist-packages (from python-dateutil>=2.8.1->pandas) (1.16.0)\n"
          ]
        }
      ],
      "source": [
        "!pip3 install pandas\n",
        "import pandas"
      ]
    },
    {
      "cell_type": "code",
      "source": [
        "path = '/content/EAR_XEES_SEX_ECO_NB_Q.csv'\n",
        "data = pandas.read_csv(path)\n",
        "\n",
        "print(data)"
      ],
      "metadata": {
        "colab": {
          "base_uri": "https://localhost:8080/"
        },
        "id": "JNGI3pBQUQo3",
        "outputId": "38aac5e4-a9ca-4bda-87dc-023a6e839936"
      },
      "execution_count": 109,
      "outputs": [
        {
          "output_type": "stream",
          "name": "stdout",
          "text": [
            "       ref_area            indicator   source    sex          classif1  \\\n",
            "0           ARG  EAR_XEES_SEX_ECO_NB   BA:150  SEX_T  ECO_SECTOR_TOTAL   \n",
            "1           ARG  EAR_XEES_SEX_ECO_NB   BA:150  SEX_T    ECO_SECTOR_AGR   \n",
            "2           ARG  EAR_XEES_SEX_ECO_NB   BA:150  SEX_T    ECO_SECTOR_IND   \n",
            "3           ARG  EAR_XEES_SEX_ECO_NB   BA:150  SEX_T    ECO_SECTOR_SER   \n",
            "4           ARG  EAR_XEES_SEX_ECO_NB   BA:150  SEX_T      ECO_SECTOR_X   \n",
            "...         ...                  ...      ...    ...               ...   \n",
            "144225      ZWE  EAR_XEES_SEX_ECO_NB  BA:1823  SEX_F       ECO_ISIC4_R   \n",
            "144226      ZWE  EAR_XEES_SEX_ECO_NB  BA:1823  SEX_F       ECO_ISIC4_S   \n",
            "144227      ZWE  EAR_XEES_SEX_ECO_NB  BA:1823  SEX_F       ECO_ISIC4_T   \n",
            "144228      ZWE  EAR_XEES_SEX_ECO_NB  BA:1823  SEX_F       ECO_ISIC4_U   \n",
            "144229      ZWE  EAR_XEES_SEX_ECO_NB  BA:1823  SEX_F       ECO_ISIC4_X   \n",
            "\n",
            "          time  obs_value obs_status note_classif  note_indicator  \\\n",
            "0       2022Q3   91806.65        NaN          NaN  T30:61_I12:450   \n",
            "1       2022Q3  145764.60        NaN          NaN  T30:61_I12:450   \n",
            "2       2022Q3   89551.67        NaN          NaN  T30:61_I12:450   \n",
            "3       2022Q3   92148.71        NaN          NaN  T30:61_I12:450   \n",
            "4       2022Q3  107495.57        NaN          NaN  T30:61_I12:450   \n",
            "...        ...        ...        ...          ...             ...   \n",
            "144225  2021Q3   16470.07          U          NaN  T30:58_I12:415   \n",
            "144226  2021Q3    7211.67        NaN          NaN  T30:58_I12:415   \n",
            "144227  2021Q3     926.32        NaN          NaN  T30:58_I12:415   \n",
            "144228  2021Q3        NaN          U          NaN  T30:58_I12:415   \n",
            "144229  2021Q3   14089.79          U          NaN  T30:58_I12:415   \n",
            "\n",
            "          note_source  \n",
            "0       R1:3513_S4:33  \n",
            "1       R1:3513_S4:33  \n",
            "2       R1:3513_S4:33  \n",
            "3       R1:3513_S4:33  \n",
            "4       R1:3513_S4:33  \n",
            "...               ...  \n",
            "144225        R1:3513  \n",
            "144226        R1:3513  \n",
            "144227        R1:3513  \n",
            "144228        R1:3513  \n",
            "144229        R1:3513  \n",
            "\n",
            "[144230 rows x 11 columns]\n"
          ]
        },
        {
          "output_type": "stream",
          "name": "stderr",
          "text": [
            "<ipython-input-109-6904ea0f498f>:2: DtypeWarning: Columns (8) have mixed types. Specify dtype option on import or set low_memory=False.\n",
            "  data = pandas.read_csv(path)\n"
          ]
        }
      ]
    },
    {
      "cell_type": "code",
      "source": [
        "# нужно убрать варианты для note_indicator через нижнее подчеркивание, иначе не хочет матчить с note_inicator_values\n",
        "def removeSplit(indicator):\n",
        "  return indicator.split('_')[0]\n",
        "\n",
        "splited = list(map(removeSplit, data.note_indicator))\n",
        "data['note_indicator'] = splited"
      ],
      "metadata": {
        "id": "Oi2JX0QykbOY"
      },
      "execution_count": 110,
      "outputs": []
    },
    {
      "cell_type": "code",
      "source": [
        "note_indicator_values = pandas.read_csv('/content/note_indicator_en.csv', index_col='note_indicator')\n",
        "note_indicator_values = note_indicator_values.rename(columns={' note_indicator.label': 'note_indicator_label'})\n",
        "print(note_indicator_values[:10])"
      ],
      "metadata": {
        "colab": {
          "base_uri": "https://localhost:8080/"
        },
        "id": "xSZyW0trXq_d",
        "outputId": "eb293928-b259-4892-ae69-9b35f4b03770"
      },
      "execution_count": 53,
      "outputs": [
        {
          "output_type": "stream",
          "name": "stdout",
          "text": [
            "                                             note_indicator_label\n",
            "note_indicator                                                   \n",
            "T5:115          Unemployment definition: Two criteria (not in ...\n",
            "T5:1429         Unemployment definition: Two criteria (not in ...\n",
            "T5:3662         Unemployment definition: Two criteria (not in ...\n",
            "T5:260             Unemployment definition: Registered unemployed\n",
            "T5:4118         Unemployment definition: Self-declared labour ...\n",
            "I24:3563                        Type of difficulties: Impairments\n",
            "I24:3562               Type of difficulties: Activity limitations\n",
            "I24:3558         Type of difficulties: Participation restrictions\n",
            "I24:3564        Type of difficulties: Nonstandard type of diff...\n",
            "I25:3553        Level of difficulties: Cannot do at all at lea...\n"
          ]
        }
      ]
    },
    {
      "cell_type": "code",
      "source": [
        "data = data.join(note_indicator_values, on = ['note_indicator'])"
      ],
      "metadata": {
        "id": "LljCS79BabDq"
      },
      "execution_count": 111,
      "outputs": []
    },
    {
      "cell_type": "code",
      "source": [
        "data[['note_indicator', 'note_indicator_label']]"
      ],
      "metadata": {
        "colab": {
          "base_uri": "https://localhost:8080/",
          "height": 419
        },
        "id": "JQyqzmq4hhtd",
        "outputId": "28bc726f-6df0-40c9-efa0-a0928426e595"
      },
      "execution_count": 112,
      "outputs": [
        {
          "output_type": "execute_result",
          "data": {
            "text/plain": [
              "       note_indicator                     note_indicator_label\n",
              "0              T30:61     Currency: ARG - Argentine peso (ARS)\n",
              "1              T30:61     Currency: ARG - Argentine peso (ARS)\n",
              "2              T30:61     Currency: ARG - Argentine peso (ARS)\n",
              "3              T30:61     Currency: ARG - Argentine peso (ARS)\n",
              "4              T30:61     Currency: ARG - Argentine peso (ARS)\n",
              "...               ...                                      ...\n",
              "144225         T30:58  Currency: ZWE - Zimbabwean dollar (ZWL)\n",
              "144226         T30:58  Currency: ZWE - Zimbabwean dollar (ZWL)\n",
              "144227         T30:58  Currency: ZWE - Zimbabwean dollar (ZWL)\n",
              "144228         T30:58  Currency: ZWE - Zimbabwean dollar (ZWL)\n",
              "144229         T30:58  Currency: ZWE - Zimbabwean dollar (ZWL)\n",
              "\n",
              "[144230 rows x 2 columns]"
            ],
            "text/html": [
              "\n",
              "  <div id=\"df-619b7d11-4391-43e8-979f-034a85f031cb\">\n",
              "    <div class=\"colab-df-container\">\n",
              "      <div>\n",
              "<style scoped>\n",
              "    .dataframe tbody tr th:only-of-type {\n",
              "        vertical-align: middle;\n",
              "    }\n",
              "\n",
              "    .dataframe tbody tr th {\n",
              "        vertical-align: top;\n",
              "    }\n",
              "\n",
              "    .dataframe thead th {\n",
              "        text-align: right;\n",
              "    }\n",
              "</style>\n",
              "<table border=\"1\" class=\"dataframe\">\n",
              "  <thead>\n",
              "    <tr style=\"text-align: right;\">\n",
              "      <th></th>\n",
              "      <th>note_indicator</th>\n",
              "      <th>note_indicator_label</th>\n",
              "    </tr>\n",
              "  </thead>\n",
              "  <tbody>\n",
              "    <tr>\n",
              "      <th>0</th>\n",
              "      <td>T30:61</td>\n",
              "      <td>Currency: ARG - Argentine peso (ARS)</td>\n",
              "    </tr>\n",
              "    <tr>\n",
              "      <th>1</th>\n",
              "      <td>T30:61</td>\n",
              "      <td>Currency: ARG - Argentine peso (ARS)</td>\n",
              "    </tr>\n",
              "    <tr>\n",
              "      <th>2</th>\n",
              "      <td>T30:61</td>\n",
              "      <td>Currency: ARG - Argentine peso (ARS)</td>\n",
              "    </tr>\n",
              "    <tr>\n",
              "      <th>3</th>\n",
              "      <td>T30:61</td>\n",
              "      <td>Currency: ARG - Argentine peso (ARS)</td>\n",
              "    </tr>\n",
              "    <tr>\n",
              "      <th>4</th>\n",
              "      <td>T30:61</td>\n",
              "      <td>Currency: ARG - Argentine peso (ARS)</td>\n",
              "    </tr>\n",
              "    <tr>\n",
              "      <th>...</th>\n",
              "      <td>...</td>\n",
              "      <td>...</td>\n",
              "    </tr>\n",
              "    <tr>\n",
              "      <th>144225</th>\n",
              "      <td>T30:58</td>\n",
              "      <td>Currency: ZWE - Zimbabwean dollar (ZWL)</td>\n",
              "    </tr>\n",
              "    <tr>\n",
              "      <th>144226</th>\n",
              "      <td>T30:58</td>\n",
              "      <td>Currency: ZWE - Zimbabwean dollar (ZWL)</td>\n",
              "    </tr>\n",
              "    <tr>\n",
              "      <th>144227</th>\n",
              "      <td>T30:58</td>\n",
              "      <td>Currency: ZWE - Zimbabwean dollar (ZWL)</td>\n",
              "    </tr>\n",
              "    <tr>\n",
              "      <th>144228</th>\n",
              "      <td>T30:58</td>\n",
              "      <td>Currency: ZWE - Zimbabwean dollar (ZWL)</td>\n",
              "    </tr>\n",
              "    <tr>\n",
              "      <th>144229</th>\n",
              "      <td>T30:58</td>\n",
              "      <td>Currency: ZWE - Zimbabwean dollar (ZWL)</td>\n",
              "    </tr>\n",
              "  </tbody>\n",
              "</table>\n",
              "<p>144230 rows × 2 columns</p>\n",
              "</div>\n",
              "      <button class=\"colab-df-convert\" onclick=\"convertToInteractive('df-619b7d11-4391-43e8-979f-034a85f031cb')\"\n",
              "              title=\"Convert this dataframe to an interactive table.\"\n",
              "              style=\"display:none;\">\n",
              "        \n",
              "  <svg xmlns=\"http://www.w3.org/2000/svg\" height=\"24px\"viewBox=\"0 0 24 24\"\n",
              "       width=\"24px\">\n",
              "    <path d=\"M0 0h24v24H0V0z\" fill=\"none\"/>\n",
              "    <path d=\"M18.56 5.44l.94 2.06.94-2.06 2.06-.94-2.06-.94-.94-2.06-.94 2.06-2.06.94zm-11 1L8.5 8.5l.94-2.06 2.06-.94-2.06-.94L8.5 2.5l-.94 2.06-2.06.94zm10 10l.94 2.06.94-2.06 2.06-.94-2.06-.94-.94-2.06-.94 2.06-2.06.94z\"/><path d=\"M17.41 7.96l-1.37-1.37c-.4-.4-.92-.59-1.43-.59-.52 0-1.04.2-1.43.59L10.3 9.45l-7.72 7.72c-.78.78-.78 2.05 0 2.83L4 21.41c.39.39.9.59 1.41.59.51 0 1.02-.2 1.41-.59l7.78-7.78 2.81-2.81c.8-.78.8-2.07 0-2.86zM5.41 20L4 18.59l7.72-7.72 1.47 1.35L5.41 20z\"/>\n",
              "  </svg>\n",
              "      </button>\n",
              "      \n",
              "  <style>\n",
              "    .colab-df-container {\n",
              "      display:flex;\n",
              "      flex-wrap:wrap;\n",
              "      gap: 12px;\n",
              "    }\n",
              "\n",
              "    .colab-df-convert {\n",
              "      background-color: #E8F0FE;\n",
              "      border: none;\n",
              "      border-radius: 50%;\n",
              "      cursor: pointer;\n",
              "      display: none;\n",
              "      fill: #1967D2;\n",
              "      height: 32px;\n",
              "      padding: 0 0 0 0;\n",
              "      width: 32px;\n",
              "    }\n",
              "\n",
              "    .colab-df-convert:hover {\n",
              "      background-color: #E2EBFA;\n",
              "      box-shadow: 0px 1px 2px rgba(60, 64, 67, 0.3), 0px 1px 3px 1px rgba(60, 64, 67, 0.15);\n",
              "      fill: #174EA6;\n",
              "    }\n",
              "\n",
              "    [theme=dark] .colab-df-convert {\n",
              "      background-color: #3B4455;\n",
              "      fill: #D2E3FC;\n",
              "    }\n",
              "\n",
              "    [theme=dark] .colab-df-convert:hover {\n",
              "      background-color: #434B5C;\n",
              "      box-shadow: 0px 1px 3px 1px rgba(0, 0, 0, 0.15);\n",
              "      filter: drop-shadow(0px 1px 2px rgba(0, 0, 0, 0.3));\n",
              "      fill: #FFFFFF;\n",
              "    }\n",
              "  </style>\n",
              "\n",
              "      <script>\n",
              "        const buttonEl =\n",
              "          document.querySelector('#df-619b7d11-4391-43e8-979f-034a85f031cb button.colab-df-convert');\n",
              "        buttonEl.style.display =\n",
              "          google.colab.kernel.accessAllowed ? 'block' : 'none';\n",
              "\n",
              "        async function convertToInteractive(key) {\n",
              "          const element = document.querySelector('#df-619b7d11-4391-43e8-979f-034a85f031cb');\n",
              "          const dataTable =\n",
              "            await google.colab.kernel.invokeFunction('convertToInteractive',\n",
              "                                                     [key], {});\n",
              "          if (!dataTable) return;\n",
              "\n",
              "          const docLinkHtml = 'Like what you see? Visit the ' +\n",
              "            '<a target=\"_blank\" href=https://colab.research.google.com/notebooks/data_table.ipynb>data table notebook</a>'\n",
              "            + ' to learn more about interactive tables.';\n",
              "          element.innerHTML = '';\n",
              "          dataTable['output_type'] = 'display_data';\n",
              "          await google.colab.output.renderOutput(dataTable, element);\n",
              "          const docLink = document.createElement('div');\n",
              "          docLink.innerHTML = docLinkHtml;\n",
              "          element.appendChild(docLink);\n",
              "        }\n",
              "      </script>\n",
              "    </div>\n",
              "  </div>\n",
              "  "
            ]
          },
          "metadata": {},
          "execution_count": 112
        }
      ]
    },
    {
      "cell_type": "code",
      "source": [
        "# оставим нужные колонки\n",
        "data = data[['obs_value', 'sex', 'note_indicator_label']]"
      ],
      "metadata": {
        "id": "gweAAN8YnhSh"
      },
      "execution_count": 116,
      "outputs": []
    },
    {
      "cell_type": "code",
      "source": [
        "# Найдем доллары (российких рублей нет в дата сете, а так бы конечно) \n",
        "usd_data = data[data.note_indicator_label == \"Currency: ECU - United States dollar (USD)\"]\n",
        "print(usd_data)"
      ],
      "metadata": {
        "colab": {
          "base_uri": "https://localhost:8080/"
        },
        "id": "9gvIWoe8odhw",
        "outputId": "3660a012-80c5-4372-b869-fda0b5a47057"
      },
      "execution_count": 121,
      "outputs": [
        {
          "output_type": "stream",
          "name": "stdout",
          "text": [
            "       obs_value    sex                        note_indicator_label\n",
            "39026     549.73  SEX_T  Currency: ECU - United States dollar (USD)\n",
            "39027     316.37  SEX_T  Currency: ECU - United States dollar (USD)\n",
            "39028     524.46  SEX_T  Currency: ECU - United States dollar (USD)\n",
            "39029     657.24  SEX_T  Currency: ECU - United States dollar (USD)\n",
            "39030     536.67  SEX_M  Currency: ECU - United States dollar (USD)\n",
            "...          ...    ...                                         ...\n",
            "44228     225.56  SEX_F  Currency: ECU - United States dollar (USD)\n",
            "44229     209.72  SEX_F  Currency: ECU - United States dollar (USD)\n",
            "44230      94.28  SEX_F  Currency: ECU - United States dollar (USD)\n",
            "44231        NaN  SEX_F  Currency: ECU - United States dollar (USD)\n",
            "44232     359.63  SEX_F  Currency: ECU - United States dollar (USD)\n",
            "\n",
            "[5207 rows x 3 columns]\n"
          ]
        }
      ]
    },
    {
      "cell_type": "code",
      "source": [
        "# средние и меданные \n",
        "print(usd_data.obs_value.mean())\n",
        "print(usd_data.obs_value.median())"
      ],
      "metadata": {
        "colab": {
          "base_uri": "https://localhost:8080/"
        },
        "id": "buwAIT-TpAjh",
        "outputId": "f0c8a7e8-c7f2-4995-e0ca-dab784864380"
      },
      "execution_count": 119,
      "outputs": [
        {
          "output_type": "stream",
          "name": "stdout",
          "text": [
            "502.8661150652432\n",
            "477.19\n"
          ]
        }
      ]
    },
    {
      "cell_type": "code",
      "source": [
        "import matplotlib.pyplot as plot\n",
        "\n",
        "plot_data = {\n",
        "    'Средний заработок у женщины': usd_data[usd_data.sex == 'SEX_F'].obs_value.mean(),\n",
        "    'Средний заработок у мужчины': usd_data[usd_data.sex == 'SEX_M'].obs_value.mean()\n",
        "}\n",
        "\n",
        "courses = list(plot_data.keys())\n",
        "values = list(plot_data.values())\n",
        "  \n",
        "fig = plot.figure(figsize = (10, 5))\n",
        " \n",
        "# creating the bar plot\n",
        "plot.bar(courses, values, color ='maroon',\n",
        "        width = 0.4)\n",
        " \n",
        "plot.ylabel(\"Доллары, $\")\n",
        "plot.title(\"Средний заработок\")\n",
        "plot.show()"
      ],
      "metadata": {
        "colab": {
          "base_uri": "https://localhost:8080/",
          "height": 468
        },
        "id": "mODc82FMpcOg",
        "outputId": "a20c7e41-36c6-4866-dcf8-c16991990010"
      },
      "execution_count": 136,
      "outputs": [
        {
          "output_type": "display_data",
          "data": {
            "text/plain": [
              "<Figure size 1000x500 with 1 Axes>"
            ],
            "image/png": "[encoded data removed]"
          },
          "metadata": {}
        }
      ]
    },
    {
      "cell_type": "code",
      "source": [
        "# тоже самое для медианного\n",
        "plot_data = {\n",
        "    'Медианный заработок у женщины': usd_data[usd_data.sex == 'SEX_F'].obs_value.median(),\n",
        "    'Медианный заработок у мужчины': usd_data[usd_data.sex == 'SEX_M'].obs_value.median()\n",
        "}\n",
        "\n",
        "courses = list(plot_data.keys())\n",
        "values = list(plot_data.values())\n",
        " \n",
        "# creating the bar plot\n",
        "plot.bar(courses, values, color ='maroon',\n",
        "        width = 0.4)\n",
        " \n",
        "plot.ylabel(\"Доллары, $\")\n",
        "plot.title(\"Медианный заработок\")\n",
        "plot.show()"
      ],
      "metadata": {
        "colab": {
          "base_uri": "https://localhost:8080/",
          "height": 452
        },
        "id": "g_h7_lGNsBiA",
        "outputId": "d843e219-539f-42da-fcae-5b5a6515d7ed"
      },
      "execution_count": 137,
      "outputs": [
        {
          "output_type": "display_data",
          "data": {
            "text/plain": [
              "<Figure size 640x480 with 1 Axes>"
            ],
            "image/png": "[encoded data removed]"
          },
          "metadata": {}
        }
      ]
    },
    {
      "cell_type": "code",
      "source": [
        "# максимальное значение \n",
        "plot_data = {\n",
        "    'Максимальный заработок у женщины': usd_data[usd_data.sex == 'SEX_F'].obs_value.max(),\n",
        "    'Максимальный заработок у мужчины': usd_data[usd_data.sex == 'SEX_M'].obs_value.max()\n",
        "}\n",
        "\n",
        "courses = list(plot_data.keys())\n",
        "values = list(plot_data.values())\n",
        " \n",
        "# creating the bar plot\n",
        "plot.bar(courses, values, color ='maroon',\n",
        "        width = 0.4)\n",
        " \n",
        "plot.ylabel(\"Доллары, $\")\n",
        "plot.title(\"Максимальный заработок\")\n",
        "plot.show()"
      ],
      "metadata": {
        "colab": {
          "base_uri": "https://localhost:8080/",
          "height": 452
        },
        "id": "p0vOit3WsNLq",
        "outputId": "459873ca-3de4-460e-bdfa-a4b75714515a"
      },
      "execution_count": 138,
      "outputs": [
        {
          "output_type": "display_data",
          "data": {
            "text/plain": [
              "<Figure size 640x480 with 1 Axes>"
            ],
            "image/png": "[encoded data removed]"
          },
          "metadata": {}
        }
      ]
    },
    {
      "cell_type": "code",
      "source": [
        "# минимальное значение \n",
        "plot_data = {\n",
        "    'Минимльный заработок у женщины': usd_data[usd_data.sex == 'SEX_F'].obs_value.min(),\n",
        "    'Минимальный заработок у мужчины': usd_data[usd_data.sex == 'SEX_M'].obs_value.min()\n",
        "}\n",
        "\n",
        "courses = list(plot_data.keys())\n",
        "values = list(plot_data.values())\n",
        " \n",
        "# creating the bar plot\n",
        "plot.bar(courses, values, color ='maroon',\n",
        "        width = 0.4)\n",
        " \n",
        "plot.ylabel(\"Доллары, $\")\n",
        "plot.title(\"Минимальный заработок\")\n",
        "plot.show()"
      ],
      "metadata": {
        "colab": {
          "base_uri": "https://localhost:8080/",
          "height": 452
        },
        "id": "HFk1kZJUslF8",
        "outputId": "3441512d-f9e7-42ed-9598-b6a0a81c7172"
      },
      "execution_count": 140,
      "outputs": [
        {
          "output_type": "display_data",
          "data": {
            "text/plain": [
              "<Figure size 640x480 with 1 Axes>"
            ],
            "image/png": "[encoded data removed]"
          },
          "metadata": {}
        }
      ]
    }
  ]
}